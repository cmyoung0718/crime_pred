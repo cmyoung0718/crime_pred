{
 "cells": [
  {
   "cell_type": "code",
   "execution_count": 1,
   "metadata": {
    "collapsed": true
   },
   "outputs": [],
   "source": [
    "import pandas as pd\n",
    "from sklearn.neighbors import KNeighborsClassifier\n",
    "from sklearn.model_selection import train_test_split\n",
    "import numpy as np\n",
    "from matplotlib import pyplot as plt\n",
    "from sklearn.metrics import classification_report, confusion_matrix\n",
    "import requests\n",
    "%matplotlib inline\n"
   ]
  },
  {
   "cell_type": "code",
   "execution_count": 2,
   "metadata": {
    "collapsed": false
   },
   "outputs": [],
   "source": [
    "# Pull data in using Socrata's API\n",
    "\n",
    "df = pd.read_json(\"https://data.seattle.gov/resource/ym38-yn4a.json?$limit=20000\")"
   ]
  },
  {
   "cell_type": "code",
   "execution_count": 3,
   "metadata": {
    "collapsed": false
   },
   "outputs": [
    {
     "data": {
      "text/html": [
       "<div>\n",
       "<table border=\"1\" class=\"dataframe\">\n",
       "  <thead>\n",
       "    <tr style=\"text-align: right;\">\n",
       "      <th></th>\n",
       "      <th>census_tract_2000</th>\n",
       "      <th>date_reported</th>\n",
       "      <th>district_sector</th>\n",
       "      <th>general_offense_number</th>\n",
       "      <th>hundred_block_location</th>\n",
       "      <th>latitude</th>\n",
       "      <th>location</th>\n",
       "      <th>longitude</th>\n",
       "      <th>occurred_date_or_date_range_start</th>\n",
       "      <th>occurred_date_range_end</th>\n",
       "      <th>offense_code</th>\n",
       "      <th>offense_code_extension</th>\n",
       "      <th>offense_type</th>\n",
       "      <th>rms_cdw_id</th>\n",
       "      <th>summarized_offense_description</th>\n",
       "      <th>summary_offense_code</th>\n",
       "      <th>zone_beat</th>\n",
       "    </tr>\n",
       "  </thead>\n",
       "  <tbody>\n",
       "    <tr>\n",
       "      <th>0</th>\n",
       "      <td>9200.2006</td>\n",
       "      <td>2017-02-08T14:38:00</td>\n",
       "      <td>K</td>\n",
       "      <td>201747229</td>\n",
       "      <td>1XX BLOCK OF OCCIDENTAL AV S</td>\n",
       "      <td>47.601299</td>\n",
       "      <td>{u'latitude': u'47.601299286', u'needs_recodin...</td>\n",
       "      <td>-122.332878</td>\n",
       "      <td>2017-02-08T11:33:00</td>\n",
       "      <td>NaN</td>\n",
       "      <td>1316</td>\n",
       "      <td>5</td>\n",
       "      <td>THREATS-WEAPON</td>\n",
       "      <td>1130844</td>\n",
       "      <td>THREATS</td>\n",
       "      <td>1300</td>\n",
       "      <td>K2</td>\n",
       "    </tr>\n",
       "    <tr>\n",
       "      <th>1</th>\n",
       "      <td>8500.2006</td>\n",
       "      <td>2017-02-08T09:55:00</td>\n",
       "      <td>E</td>\n",
       "      <td>201746998</td>\n",
       "      <td>6XX BLOCK OF BROADWAY</td>\n",
       "      <td>47.607647</td>\n",
       "      <td>{u'latitude': u'47.607646942', u'needs_recodin...</td>\n",
       "      <td>-122.320755</td>\n",
       "      <td>2017-02-08T08:25:00</td>\n",
       "      <td>NaN</td>\n",
       "      <td>5707</td>\n",
       "      <td>0</td>\n",
       "      <td>TRESPASS</td>\n",
       "      <td>1130633</td>\n",
       "      <td>TRESPASS</td>\n",
       "      <td>5700</td>\n",
       "      <td>E3</td>\n",
       "    </tr>\n",
       "    <tr>\n",
       "      <th>2</th>\n",
       "      <td>8100.1039</td>\n",
       "      <td>2017-02-08T04:30:00</td>\n",
       "      <td>K</td>\n",
       "      <td>201746849</td>\n",
       "      <td>COLUMBIA ST / WESTERN AV</td>\n",
       "      <td>47.602802</td>\n",
       "      <td>{u'latitude': u'47.602802277', u'needs_recodin...</td>\n",
       "      <td>-122.336044</td>\n",
       "      <td>2017-02-08T04:30:00</td>\n",
       "      <td>NaN</td>\n",
       "      <td>X</td>\n",
       "      <td>69</td>\n",
       "      <td>VEH-RCVD-FOR OTHER AGENCY</td>\n",
       "      <td>1130385</td>\n",
       "      <td>VEHICLE THEFT</td>\n",
       "      <td>X</td>\n",
       "      <td>K1</td>\n",
       "    </tr>\n",
       "  </tbody>\n",
       "</table>\n",
       "</div>"
      ],
      "text/plain": [
       "  census_tract_2000        date_reported district_sector  \\\n",
       "0         9200.2006  2017-02-08T14:38:00               K   \n",
       "1         8500.2006  2017-02-08T09:55:00               E   \n",
       "2         8100.1039  2017-02-08T04:30:00               K   \n",
       "\n",
       "   general_offense_number        hundred_block_location   latitude  \\\n",
       "0               201747229  1XX BLOCK OF OCCIDENTAL AV S  47.601299   \n",
       "1               201746998         6XX BLOCK OF BROADWAY  47.607647   \n",
       "2               201746849      COLUMBIA ST / WESTERN AV  47.602802   \n",
       "\n",
       "                                            location   longitude  \\\n",
       "0  {u'latitude': u'47.601299286', u'needs_recodin... -122.332878   \n",
       "1  {u'latitude': u'47.607646942', u'needs_recodin... -122.320755   \n",
       "2  {u'latitude': u'47.602802277', u'needs_recodin... -122.336044   \n",
       "\n",
       "  occurred_date_or_date_range_start occurred_date_range_end offense_code  \\\n",
       "0               2017-02-08T11:33:00                     NaN         1316   \n",
       "1               2017-02-08T08:25:00                     NaN         5707   \n",
       "2               2017-02-08T04:30:00                     NaN            X   \n",
       "\n",
       "   offense_code_extension               offense_type  rms_cdw_id  \\\n",
       "0                       5             THREATS-WEAPON     1130844   \n",
       "1                       0                   TRESPASS     1130633   \n",
       "2                      69  VEH-RCVD-FOR OTHER AGENCY     1130385   \n",
       "\n",
       "  summarized_offense_description summary_offense_code zone_beat  \n",
       "0                        THREATS                 1300        K2  \n",
       "1                       TRESPASS                 5700        E3  \n",
       "2                  VEHICLE THEFT                    X        K1  "
      ]
     },
     "execution_count": 3,
     "metadata": {},
     "output_type": "execute_result"
    }
   ],
   "source": [
    "# Look at the data to make sure everything looks okay\n",
    "\n",
    "df.head(3)"
   ]
  },
  {
   "cell_type": "code",
   "execution_count": 4,
   "metadata": {
    "collapsed": false
   },
   "outputs": [
    {
     "data": {
      "text/plain": [
       "CAR PROWL          2942\n",
       "BURGLARY           2701\n",
       "OTHER PROPERTY     1591\n",
       "VEHICLE THEFT      1577\n",
       "ASSAULT            1422\n",
       "PROPERTY DAMAGE    1106\n",
       "STOLEN PROPERTY    1050\n",
       "SHOPLIFTING         947\n",
       "DISTURBANCE         772\n",
       "NARCOTICS           713\n",
       "Name: summarized_offense_description, dtype: int64"
      ]
     },
     "execution_count": 4,
     "metadata": {},
     "output_type": "execute_result"
    }
   ],
   "source": [
    "# Look at the top ten offenses in the data\n",
    "\n",
    "df['summarized_offense_description'].value_counts()[:10]"
   ]
  },
  {
   "cell_type": "code",
   "execution_count": 5,
   "metadata": {
    "collapsed": false
   },
   "outputs": [],
   "source": [
    "# Create location column containing longitude and latitude of each crime\n",
    "\n",
    "df['location'] = pd.Series([(i['longitude'], i['latitude']) for i in df['location']])"
   ]
  },
  {
   "cell_type": "code",
   "execution_count": 6,
   "metadata": {
    "collapsed": false
   },
   "outputs": [
    {
     "data": {
      "text/plain": [
       "(-122.324615479, 47.708602905)    140\n",
       "(-122.338348389, 47.609516144)    126\n",
       "(-122.331085205, 47.602413177)    125\n",
       "(-122.338150024, 47.610973358)    121\n",
       "(-122.33731842, 47.611320496)     116\n",
       "(-122.344894409, 47.71717453)      90\n",
       "(-122.334815979, 47.612369537)     80\n",
       "(-122.344993591, 47.725036621)     76\n",
       "(-122.334007263, 47.610645294)     70\n",
       "(-122.313438416, 47.596652985)     68\n",
       "Name: location, dtype: int64"
      ]
     },
     "execution_count": 6,
     "metadata": {},
     "output_type": "execute_result"
    }
   ],
   "source": [
    "# Make sure each crime location is not unique\n",
    "\n",
    "df['location'].value_counts()[:10]"
   ]
  },
  {
   "cell_type": "code",
   "execution_count": 7,
   "metadata": {
    "collapsed": false
   },
   "outputs": [],
   "source": [
    "# Create pandas series of unique crime locations\n",
    "unique_locs = pd.Series(pd.DataFrame(df['location'].value_counts()).index)\n",
    "\n",
    "# Create list of percent crime per location\n",
    "listy = []\n",
    "for i in df['location'].value_counts():\n",
    "    listy.append(float(i) / len(df))\n",
    "\n",
    "# Concatenate unique_locs and listy together in a pandas dataframe named perc_crime\n",
    "perc_crime = pd.Series(listy)\n",
    "perc_crime = pd.concat([perc_crime, unique_locs], axis=1)\n",
    "perc_crime.columns = 'percent', 'location'"
   ]
  },
  {
   "cell_type": "code",
   "execution_count": 8,
   "metadata": {
    "collapsed": false
   },
   "outputs": [
    {
     "data": {
      "text/html": [
       "<div>\n",
       "<table border=\"1\" class=\"dataframe\">\n",
       "  <thead>\n",
       "    <tr style=\"text-align: right;\">\n",
       "      <th></th>\n",
       "      <th>percent</th>\n",
       "      <th>location</th>\n",
       "      <th>census_tract_2000</th>\n",
       "      <th>date_reported</th>\n",
       "      <th>district_sector</th>\n",
       "      <th>general_offense_number</th>\n",
       "      <th>hundred_block_location</th>\n",
       "      <th>latitude</th>\n",
       "      <th>longitude</th>\n",
       "      <th>occurred_date_or_date_range_start</th>\n",
       "      <th>occurred_date_range_end</th>\n",
       "      <th>offense_code</th>\n",
       "      <th>offense_code_extension</th>\n",
       "      <th>offense_type</th>\n",
       "      <th>rms_cdw_id</th>\n",
       "      <th>summarized_offense_description</th>\n",
       "      <th>summary_offense_code</th>\n",
       "      <th>zone_beat</th>\n",
       "    </tr>\n",
       "  </thead>\n",
       "  <tbody>\n",
       "    <tr>\n",
       "      <th>0</th>\n",
       "      <td>0.007</td>\n",
       "      <td>(-122.324615479, 47.708602905)</td>\n",
       "      <td>1200.4010</td>\n",
       "      <td>2017-02-04T22:16:00</td>\n",
       "      <td>L</td>\n",
       "      <td>201743396</td>\n",
       "      <td>4XX BLOCK OF NE NORTHGATE WY</td>\n",
       "      <td>47.708603</td>\n",
       "      <td>-122.324615</td>\n",
       "      <td>2017-02-04T22:16:00</td>\n",
       "      <td>NaN</td>\n",
       "      <td>X</td>\n",
       "      <td>21</td>\n",
       "      <td>DISTURBANCE-OTH</td>\n",
       "      <td>1128755</td>\n",
       "      <td>DISTURBANCE</td>\n",
       "      <td>X</td>\n",
       "      <td>L2</td>\n",
       "    </tr>\n",
       "    <tr>\n",
       "      <th>1</th>\n",
       "      <td>0.007</td>\n",
       "      <td>(-122.324615479, 47.708602905)</td>\n",
       "      <td>1200.4010</td>\n",
       "      <td>2017-02-04T20:43:00</td>\n",
       "      <td>L</td>\n",
       "      <td>201743414</td>\n",
       "      <td>4XX BLOCK OF NE NORTHGATE WY</td>\n",
       "      <td>47.708603</td>\n",
       "      <td>-122.324615</td>\n",
       "      <td>2017-02-04T20:43:00</td>\n",
       "      <td>NaN</td>\n",
       "      <td>2303</td>\n",
       "      <td>0</td>\n",
       "      <td>THEFT-SHOPLIFT</td>\n",
       "      <td>1128781</td>\n",
       "      <td>SHOPLIFTING</td>\n",
       "      <td>2300</td>\n",
       "      <td>L2</td>\n",
       "    </tr>\n",
       "    <tr>\n",
       "      <th>2</th>\n",
       "      <td>0.007</td>\n",
       "      <td>(-122.324615479, 47.708602905)</td>\n",
       "      <td>1200.4010</td>\n",
       "      <td>2017-02-05T18:01:00</td>\n",
       "      <td>L</td>\n",
       "      <td>201744281</td>\n",
       "      <td>4XX BLOCK OF NE NORTHGATE WY</td>\n",
       "      <td>47.708603</td>\n",
       "      <td>-122.324615</td>\n",
       "      <td>2017-02-04T17:50:00</td>\n",
       "      <td>2017-02-04T17:55:00</td>\n",
       "      <td>2303</td>\n",
       "      <td>0</td>\n",
       "      <td>THEFT-SHOPLIFT</td>\n",
       "      <td>1129438</td>\n",
       "      <td>SHOPLIFTING</td>\n",
       "      <td>2300</td>\n",
       "      <td>L2</td>\n",
       "    </tr>\n",
       "  </tbody>\n",
       "</table>\n",
       "</div>"
      ],
      "text/plain": [
       "   percent                        location census_tract_2000  \\\n",
       "0    0.007  (-122.324615479, 47.708602905)         1200.4010   \n",
       "1    0.007  (-122.324615479, 47.708602905)         1200.4010   \n",
       "2    0.007  (-122.324615479, 47.708602905)         1200.4010   \n",
       "\n",
       "         date_reported district_sector  general_offense_number  \\\n",
       "0  2017-02-04T22:16:00               L               201743396   \n",
       "1  2017-02-04T20:43:00               L               201743414   \n",
       "2  2017-02-05T18:01:00               L               201744281   \n",
       "\n",
       "         hundred_block_location   latitude   longitude  \\\n",
       "0  4XX BLOCK OF NE NORTHGATE WY  47.708603 -122.324615   \n",
       "1  4XX BLOCK OF NE NORTHGATE WY  47.708603 -122.324615   \n",
       "2  4XX BLOCK OF NE NORTHGATE WY  47.708603 -122.324615   \n",
       "\n",
       "  occurred_date_or_date_range_start occurred_date_range_end offense_code  \\\n",
       "0               2017-02-04T22:16:00                     NaN            X   \n",
       "1               2017-02-04T20:43:00                     NaN         2303   \n",
       "2               2017-02-04T17:50:00     2017-02-04T17:55:00         2303   \n",
       "\n",
       "   offense_code_extension     offense_type  rms_cdw_id  \\\n",
       "0                      21  DISTURBANCE-OTH     1128755   \n",
       "1                       0   THEFT-SHOPLIFT     1128781   \n",
       "2                       0   THEFT-SHOPLIFT     1129438   \n",
       "\n",
       "  summarized_offense_description summary_offense_code zone_beat  \n",
       "0                    DISTURBANCE                    X        L2  \n",
       "1                    SHOPLIFTING                 2300        L2  \n",
       "2                    SHOPLIFTING                 2300        L2  "
      ]
     },
     "execution_count": 8,
     "metadata": {},
     "output_type": "execute_result"
    }
   ],
   "source": [
    "# Create new_df by preforming inner join on original df and perc_crime\n",
    "\n",
    "new_df = pd.merge(perc_crime, df, how='left', on='location')\n",
    "\n",
    "new_df.head(3)"
   ]
  },
  {
   "cell_type": "code",
   "execution_count": 9,
   "metadata": {
    "collapsed": false
   },
   "outputs": [
    {
     "data": {
      "image/png": "[encoded data removed]",
      "text/plain": [
       "<matplotlib.figure.Figure at 0x117aeab90>"
      ]
     },
     "metadata": {},
     "output_type": "display_data"
    }
   ],
   "source": [
    "# Look at distribution of crime level\n",
    "\n",
    "plt.hist(new_df['percent'], bins=50)\n",
    "plt.title('Distribution of Crime Level')\n",
    "plt.xlabel('Crime Rate')\n",
    "plt.ylabel('Frequency')\n",
    "plt.show()"
   ]
  },
  {
   "cell_type": "code",
   "execution_count": 10,
   "metadata": {
    "collapsed": true
   },
   "outputs": [],
   "source": [
    "# Split locations into high crime, medium crime, and low crime areas\n",
    "\n",
    "per_33 = np.percentile(new_df['percent'], 33)\n",
    "per_66 = np.percentile(new_df['percent'], 66)\n",
    "\n",
    "listy = []\n",
    "for i in new_df['percent']:\n",
    "    if i < per_33:\n",
    "        listy.append('Low')\n",
    "    elif i < per_66:\n",
    "        listy.append('Medium')\n",
    "    else:\n",
    "        listy.append('High')\n",
    "\n",
    "# Create new column with label of crime level\n",
    "new_df['crime_level'] = listy"
   ]
  },
  {
   "cell_type": "code",
   "execution_count": 11,
   "metadata": {
    "collapsed": true
   },
   "outputs": [],
   "source": [
    "# Assign X and y for KNN model\n",
    "\n",
    "X = new_df[['latitude', 'longitude']]\n",
    "y = new_df['crime_level']"
   ]
  },
  {
   "cell_type": "code",
   "execution_count": 12,
   "metadata": {
    "collapsed": true
   },
   "outputs": [],
   "source": [
    "# Split data into train and test\n",
    "\n",
    "X_train, X_test, y_train, y_test = train_test_split(X, y, stratify=y, test_size=0.33, random_state=42)"
   ]
  },
  {
   "cell_type": "code",
   "execution_count": 13,
   "metadata": {
    "collapsed": false
   },
   "outputs": [
    {
     "name": "stdout",
     "output_type": "stream",
     "text": [
      "0.97303030303\n"
     ]
    }
   ],
   "source": [
    "# Build KNN model to predict crime level of incoming coordinates\n",
    "\n",
    "knn = KNeighborsClassifier(n_neighbors=2, weights='distance')\n",
    "knn.fit(X_train, y_train)\n",
    "print knn.score(X_test, y_test)\n",
    "y_pred = knn.predict(X_test)"
   ]
  },
  {
   "cell_type": "code",
   "execution_count": 14,
   "metadata": {
    "collapsed": false
   },
   "outputs": [
    {
     "name": "stdout",
     "output_type": "stream",
     "text": [
      "             precision    recall  f1-score   support\n",
      "\n",
      "       High       0.98      1.00      0.99      2361\n",
      "        Low       0.99      0.92      0.95      1997\n",
      "     Medium       0.95      1.00      0.97      2242\n",
      "\n",
      "avg / total       0.97      0.97      0.97      6600\n",
      "\n"
     ]
    },
    {
     "data": {
      "text/plain": [
       "array([[2361,    0,    0],\n",
       "       [  46, 1829,  122],\n",
       "       [   0,   10, 2232]])"
      ]
     },
     "execution_count": 14,
     "metadata": {},
     "output_type": "execute_result"
    }
   ],
   "source": [
    "# Print classification report and confusion matrix\n",
    "\n",
    "print classification_report(y_test, y_pred)\n",
    "confusion_matrix(y_test, y_pred)"
   ]
  },
  {
   "cell_type": "code",
   "execution_count": 15,
   "metadata": {
    "collapsed": false
   },
   "outputs": [
    {
     "name": "stdout",
     "output_type": "stream",
     "text": [
      "{\"prediction\": \"Medium Crime Area\"}\n"
     ]
    }
   ],
   "source": [
    "# Recieve predictions via post request, allowing this model to be used with websites\n",
    "\n",
    "data = { 'latitude' : 10.234098, 'longitude' : -100.123456}\n",
    "response = requests.post('https://secure-bayou-76149.herokuapp.com/site/survey/callback/', data=data)\n",
    "print response.content"
   ]
  },
  {
   "cell_type": "code",
   "execution_count": null,
   "metadata": {
    "collapsed": true
   },
   "outputs": [],
   "source": []
  }
 ],
 "metadata": {
  "anaconda-cloud": {},
  "kernelspec": {
   "display_name": "Python [Root]",
   "language": "python",
   "name": "Python [Root]"
  },
  "language_info": {
   "codemirror_mode": {
    "name": "ipython",
    "version": 2
   },
   "file_extension": ".py",
   "mimetype": "text/x-python",
   "name": "python",
   "nbconvert_exporter": "python",
   "pygments_lexer": "ipython2",
   "version": "2.7.12"
  }
 },
 "nbformat": 4,
 "nbformat_minor": 0
}
