{
 "cells": [
  {
   "cell_type": "code",
   "execution_count": 42,
   "metadata": {
    "collapsed": true
   },
   "outputs": [],
   "source": [
    "import pandas as pd\n",
    "from sklearn.neighbors import KNeighborsClassifier\n",
    "from sklearn.model_selection import train_test_split\n",
    "import numpy as np\n",
    "from matplotlib import pyplot as plt\n",
    "from sklearn.metrics import classification_report, confusion_matrix\n",
    "import requests\n",
    "%matplotlib inline\n"
   ]
  },
  {
   "cell_type": "code",
   "execution_count": 3,
   "metadata": {
    "collapsed": false
   },
   "outputs": [],
   "source": [
    "# Pull data in using Socrata's API\n",
    "\n",
    "df = pd.read_json(\"https://data.seattle.gov/resource/ym38-yn4a.json?$limit=20000\")"
   ]
  },
  {
   "cell_type": "code",
   "execution_count": 5,
   "metadata": {
    "collapsed": false
   },
   "outputs": [
    {
     "data": {
      "text/html": [
       "<div>\n",
       "<table border=\"1\" class=\"dataframe\">\n",
       "  <thead>\n",
       "    <tr style=\"text-align: right;\">\n",
       "      <th></th>\n",
       "      <th>census_tract_2000</th>\n",
       "      <th>date_reported</th>\n",
       "      <th>district_sector</th>\n",
       "      <th>general_offense_number</th>\n",
       "      <th>hundred_block_location</th>\n",
       "      <th>latitude</th>\n",
       "      <th>location</th>\n",
       "      <th>longitude</th>\n",
       "      <th>occurred_date_or_date_range_start</th>\n",
       "      <th>occurred_date_range_end</th>\n",
       "      <th>offense_code</th>\n",
       "      <th>offense_code_extension</th>\n",
       "      <th>offense_type</th>\n",
       "      <th>rms_cdw_id</th>\n",
       "      <th>summarized_offense_description</th>\n",
       "      <th>summary_offense_code</th>\n",
       "      <th>zone_beat</th>\n",
       "    </tr>\n",
       "  </thead>\n",
       "  <tbody>\n",
       "    <tr>\n",
       "      <th>0</th>\n",
       "      <td>9300.3014</td>\n",
       "      <td>2016-12-27T16:16:00</td>\n",
       "      <td>O</td>\n",
       "      <td>2016463724</td>\n",
       "      <td>22XX BLOCK OF 4 AV S</td>\n",
       "      <td>47.582935</td>\n",
       "      <td>{u'latitude': u'47.582935333', u'needs_recodin...</td>\n",
       "      <td>-122.329056</td>\n",
       "      <td>2016-12-27T16:16:00</td>\n",
       "      <td>NaN</td>\n",
       "      <td>1304</td>\n",
       "      <td>0</td>\n",
       "      <td>ASSLT-AGG-GUN</td>\n",
       "      <td>1101380</td>\n",
       "      <td>ASSAULT</td>\n",
       "      <td>1300</td>\n",
       "      <td>O1</td>\n",
       "    </tr>\n",
       "    <tr>\n",
       "      <th>1</th>\n",
       "      <td>11800.6020</td>\n",
       "      <td>2016-12-27T14:04:00</td>\n",
       "      <td>S</td>\n",
       "      <td>2016463516</td>\n",
       "      <td>92XX BLOCK OF RAINIER AV S</td>\n",
       "      <td>47.519852</td>\n",
       "      <td>{u'latitude': u'47.519851685', u'needs_recodin...</td>\n",
       "      <td>-122.268028</td>\n",
       "      <td>2016-12-27T14:04:00</td>\n",
       "      <td>NaN</td>\n",
       "      <td>5015</td>\n",
       "      <td>1</td>\n",
       "      <td>WARRARR-FELONY</td>\n",
       "      <td>1101351</td>\n",
       "      <td>WARRANT ARREST</td>\n",
       "      <td>5000</td>\n",
       "      <td>S3</td>\n",
       "    </tr>\n",
       "    <tr>\n",
       "      <th>2</th>\n",
       "      <td>6600.1028</td>\n",
       "      <td>2016-12-27T13:06:00</td>\n",
       "      <td>D</td>\n",
       "      <td>2016463588</td>\n",
       "      <td>15XX BLOCK OF FAIRVIEW AV E</td>\n",
       "      <td>47.632881</td>\n",
       "      <td>{u'latitude': u'47.632881165', u'needs_recodin...</td>\n",
       "      <td>-122.326935</td>\n",
       "      <td>2016-12-27T13:06:00</td>\n",
       "      <td>NaN</td>\n",
       "      <td>1313</td>\n",
       "      <td>0</td>\n",
       "      <td>ASSLT-NONAGG</td>\n",
       "      <td>1101367</td>\n",
       "      <td>ASSAULT</td>\n",
       "      <td>1300</td>\n",
       "      <td>D3</td>\n",
       "    </tr>\n",
       "  </tbody>\n",
       "</table>\n",
       "</div>"
      ],
      "text/plain": [
       "  census_tract_2000        date_reported district_sector  \\\n",
       "0         9300.3014  2016-12-27T16:16:00               O   \n",
       "1        11800.6020  2016-12-27T14:04:00               S   \n",
       "2         6600.1028  2016-12-27T13:06:00               D   \n",
       "\n",
       "   general_offense_number       hundred_block_location   latitude  \\\n",
       "0              2016463724         22XX BLOCK OF 4 AV S  47.582935   \n",
       "1              2016463516   92XX BLOCK OF RAINIER AV S  47.519852   \n",
       "2              2016463588  15XX BLOCK OF FAIRVIEW AV E  47.632881   \n",
       "\n",
       "                                            location   longitude  \\\n",
       "0  {u'latitude': u'47.582935333', u'needs_recodin... -122.329056   \n",
       "1  {u'latitude': u'47.519851685', u'needs_recodin... -122.268028   \n",
       "2  {u'latitude': u'47.632881165', u'needs_recodin... -122.326935   \n",
       "\n",
       "  occurred_date_or_date_range_start occurred_date_range_end offense_code  \\\n",
       "0               2016-12-27T16:16:00                     NaN         1304   \n",
       "1               2016-12-27T14:04:00                     NaN         5015   \n",
       "2               2016-12-27T13:06:00                     NaN         1313   \n",
       "\n",
       "   offense_code_extension    offense_type  rms_cdw_id  \\\n",
       "0                       0   ASSLT-AGG-GUN     1101380   \n",
       "1                       1  WARRARR-FELONY     1101351   \n",
       "2                       0    ASSLT-NONAGG     1101367   \n",
       "\n",
       "  summarized_offense_description summary_offense_code zone_beat  \n",
       "0                        ASSAULT                 1300        O1  \n",
       "1                 WARRANT ARREST                 5000        S3  \n",
       "2                        ASSAULT                 1300        D3  "
      ]
     },
     "execution_count": 5,
     "metadata": {},
     "output_type": "execute_result"
    }
   ],
   "source": [
    "# Look at the data to make sure everything looks okay\n",
    "\n",
    "df.head(3)"
   ]
  },
  {
   "cell_type": "code",
   "execution_count": 12,
   "metadata": {
    "collapsed": false
   },
   "outputs": [
    {
     "data": {
      "text/plain": [
       "CAR PROWL          3210\n",
       "BURGLARY           2508\n",
       "VEHICLE THEFT      2445\n",
       "OTHER PROPERTY     1948\n",
       "ASSAULT            1303\n",
       "PROPERTY DAMAGE    1120\n",
       "SHOPLIFTING         966\n",
       "STOLEN PROPERTY     743\n",
       "DISTURBANCE         702\n",
       "ROBBERY             686\n",
       "Name: summarized_offense_description, dtype: int64"
      ]
     },
     "execution_count": 12,
     "metadata": {},
     "output_type": "execute_result"
    }
   ],
   "source": [
    "# Look at the top ten offenses in the data\n",
    "\n",
    "df['summarized_offense_description'].value_counts()[:10]"
   ]
  },
  {
   "cell_type": "code",
   "execution_count": 15,
   "metadata": {
    "collapsed": false
   },
   "outputs": [],
   "source": [
    "# Create location column containing longitude and latitude of each crime\n",
    "\n",
    "df['location'] = pd.Series([(i['longitude'], i['latitude']) for i in df['location']])"
   ]
  },
  {
   "cell_type": "code",
   "execution_count": 19,
   "metadata": {
    "collapsed": false
   },
   "outputs": [
    {
     "data": {
      "text/plain": [
       "(-122.324615479, 47.708602905)    256\n",
       "(-122.338150024, 47.610973358)    133\n",
       "(-122.331085205, 47.602413177)    109\n",
       "(-122.344993591, 47.725036621)     88\n",
       "(-122.334815979, 47.612369537)     84\n",
       "(-122.344894409, 47.71717453)      78\n",
       "(-122.313438416, 47.596652985)     72\n",
       "(-122.33731842, 47.611320496)      72\n",
       "(-122.338348389, 47.609516144)     72\n",
       "(-122.359313965, 47.690616608)     65\n",
       "Name: location, dtype: int64"
      ]
     },
     "execution_count": 19,
     "metadata": {},
     "output_type": "execute_result"
    }
   ],
   "source": [
    "# Make sure each crime location is not unique\n",
    "\n",
    "df['location'].value_counts()[:10]"
   ]
  },
  {
   "cell_type": "code",
   "execution_count": 22,
   "metadata": {
    "collapsed": false
   },
   "outputs": [],
   "source": [
    "# Create pandas series of unique crime locations\n",
    "unique_locs = pd.Series(pd.DataFrame(df['location'].value_counts()).index)\n",
    "\n",
    "# Create list of percent crime per location\n",
    "listy = []\n",
    "for i in df['location'].value_counts():\n",
    "    listy.append(float(i) / len(df))\n",
    "\n",
    "# Concatenate unique_locs and listy together in a pandas dataframe named perc_crime\n",
    "perc_crime = pd.Series(listy)\n",
    "perc_crime = pd.concat([perc_crime, unique_locs], axis=1)\n",
    "perc_crime.columns = 'percent', 'location'"
   ]
  },
  {
   "cell_type": "code",
   "execution_count": 27,
   "metadata": {
    "collapsed": false
   },
   "outputs": [
    {
     "data": {
      "text/html": [
       "<div>\n",
       "<table border=\"1\" class=\"dataframe\">\n",
       "  <thead>\n",
       "    <tr style=\"text-align: right;\">\n",
       "      <th></th>\n",
       "      <th>percent</th>\n",
       "      <th>location</th>\n",
       "      <th>census_tract_2000</th>\n",
       "      <th>date_reported</th>\n",
       "      <th>district_sector</th>\n",
       "      <th>general_offense_number</th>\n",
       "      <th>hundred_block_location</th>\n",
       "      <th>latitude</th>\n",
       "      <th>longitude</th>\n",
       "      <th>occurred_date_or_date_range_start</th>\n",
       "      <th>occurred_date_range_end</th>\n",
       "      <th>offense_code</th>\n",
       "      <th>offense_code_extension</th>\n",
       "      <th>offense_type</th>\n",
       "      <th>rms_cdw_id</th>\n",
       "      <th>summarized_offense_description</th>\n",
       "      <th>summary_offense_code</th>\n",
       "      <th>zone_beat</th>\n",
       "    </tr>\n",
       "  </thead>\n",
       "  <tbody>\n",
       "    <tr>\n",
       "      <th>0</th>\n",
       "      <td>0.0128</td>\n",
       "      <td>(-122.324615479, 47.708602905)</td>\n",
       "      <td>1200.4010</td>\n",
       "      <td>2016-12-27T11:25:00</td>\n",
       "      <td>L</td>\n",
       "      <td>2016462806</td>\n",
       "      <td>4XX BLOCK OF NE NORTHGATE WY</td>\n",
       "      <td>47.708603</td>\n",
       "      <td>-122.324615</td>\n",
       "      <td>2016-12-26T17:36:00</td>\n",
       "      <td>NaN</td>\n",
       "      <td>X</td>\n",
       "      <td>21</td>\n",
       "      <td>DISTURBANCE-OTH</td>\n",
       "      <td>1101395</td>\n",
       "      <td>DISTURBANCE</td>\n",
       "      <td>X</td>\n",
       "      <td>L2</td>\n",
       "    </tr>\n",
       "    <tr>\n",
       "      <th>1</th>\n",
       "      <td>0.0128</td>\n",
       "      <td>(-122.324615479, 47.708602905)</td>\n",
       "      <td>1200.4010</td>\n",
       "      <td>2016-12-26T05:53:00</td>\n",
       "      <td>L</td>\n",
       "      <td>2016462250</td>\n",
       "      <td>4XX BLOCK OF NE NORTHGATE WY</td>\n",
       "      <td>47.708603</td>\n",
       "      <td>-122.324615</td>\n",
       "      <td>2016-12-26T05:53:00</td>\n",
       "      <td>NaN</td>\n",
       "      <td>5015</td>\n",
       "      <td>2</td>\n",
       "      <td>WARRARR-MISDEMEANOR</td>\n",
       "      <td>1100489</td>\n",
       "      <td>WARRANT ARREST</td>\n",
       "      <td>5000</td>\n",
       "      <td>L2</td>\n",
       "    </tr>\n",
       "    <tr>\n",
       "      <th>2</th>\n",
       "      <td>0.0128</td>\n",
       "      <td>(-122.324615479, 47.708602905)</td>\n",
       "      <td>1200.4010</td>\n",
       "      <td>2016-12-23T21:34:00</td>\n",
       "      <td>L</td>\n",
       "      <td>2016460289</td>\n",
       "      <td>4XX BLOCK OF NE NORTHGATE WY</td>\n",
       "      <td>47.708603</td>\n",
       "      <td>-122.324615</td>\n",
       "      <td>2016-12-23T18:30:00</td>\n",
       "      <td>2016-12-23T18:00:00</td>\n",
       "      <td>2404</td>\n",
       "      <td>1</td>\n",
       "      <td>VEH-THEFT-AUTO</td>\n",
       "      <td>1100262</td>\n",
       "      <td>VEHICLE THEFT</td>\n",
       "      <td>2400</td>\n",
       "      <td>L2</td>\n",
       "    </tr>\n",
       "  </tbody>\n",
       "</table>\n",
       "</div>"
      ],
      "text/plain": [
       "   percent                        location census_tract_2000  \\\n",
       "0   0.0128  (-122.324615479, 47.708602905)         1200.4010   \n",
       "1   0.0128  (-122.324615479, 47.708602905)         1200.4010   \n",
       "2   0.0128  (-122.324615479, 47.708602905)         1200.4010   \n",
       "\n",
       "         date_reported district_sector  general_offense_number  \\\n",
       "0  2016-12-27T11:25:00               L              2016462806   \n",
       "1  2016-12-26T05:53:00               L              2016462250   \n",
       "2  2016-12-23T21:34:00               L              2016460289   \n",
       "\n",
       "         hundred_block_location   latitude   longitude  \\\n",
       "0  4XX BLOCK OF NE NORTHGATE WY  47.708603 -122.324615   \n",
       "1  4XX BLOCK OF NE NORTHGATE WY  47.708603 -122.324615   \n",
       "2  4XX BLOCK OF NE NORTHGATE WY  47.708603 -122.324615   \n",
       "\n",
       "  occurred_date_or_date_range_start occurred_date_range_end offense_code  \\\n",
       "0               2016-12-26T17:36:00                     NaN            X   \n",
       "1               2016-12-26T05:53:00                     NaN         5015   \n",
       "2               2016-12-23T18:30:00     2016-12-23T18:00:00         2404   \n",
       "\n",
       "   offense_code_extension         offense_type  rms_cdw_id  \\\n",
       "0                      21      DISTURBANCE-OTH     1101395   \n",
       "1                       2  WARRARR-MISDEMEANOR     1100489   \n",
       "2                       1       VEH-THEFT-AUTO     1100262   \n",
       "\n",
       "  summarized_offense_description summary_offense_code zone_beat  \n",
       "0                    DISTURBANCE                    X        L2  \n",
       "1                 WARRANT ARREST                 5000        L2  \n",
       "2                  VEHICLE THEFT                 2400        L2  "
      ]
     },
     "execution_count": 27,
     "metadata": {},
     "output_type": "execute_result"
    }
   ],
   "source": [
    "# Create new_df by preforming inner join on original df and perc_crime\n",
    "\n",
    "new_df = pd.merge(perc_crime, df, how='left', on='location')\n",
    "\n",
    "new_df.head(3)"
   ]
  },
  {
   "cell_type": "code",
   "execution_count": 33,
   "metadata": {
    "collapsed": false
   },
   "outputs": [
    {
     "data": {
      "image/png": "[encoded data removed]",
      "text/plain": [
       "<matplotlib.figure.Figure at 0x11b301b50>"
      ]
     },
     "metadata": {},
     "output_type": "display_data"
    }
   ],
   "source": [
    "# Look at distribution of crime level\n",
    "\n",
    "plt.hist(new_df['percent'], bins=50)\n",
    "plt.title('Distribution of Crime Level')\n",
    "plt.xlabel('Frequency')\n",
    "plt.ylabel('Crime Rate')\n",
    "plt.show()"
   ]
  },
  {
   "cell_type": "code",
   "execution_count": 35,
   "metadata": {
    "collapsed": true
   },
   "outputs": [],
   "source": [
    "# Split locations into high crime, medium crime, and low crime areas\n",
    "\n",
    "per_33 = np.percentile(new_df['percent'], 33)\n",
    "per_66 = np.percentile(new_df['percent'], 66)\n",
    "\n",
    "listy = []\n",
    "for i in new_df['percent']:\n",
    "    if i < per_33:\n",
    "        listy.append('Low')\n",
    "    elif i < per_66:\n",
    "        listy.append('Medium')\n",
    "    else:\n",
    "        listy.append('High')\n",
    "\n",
    "# Create new column with label of crime level\n",
    "new_df['crime_level'] = listy"
   ]
  },
  {
   "cell_type": "code",
   "execution_count": 36,
   "metadata": {
    "collapsed": true
   },
   "outputs": [],
   "source": [
    "# Assign X and y for KNN model\n",
    "\n",
    "X = new_df[['latitude', 'longitude']]\n",
    "y = new_df['crime_level']"
   ]
  },
  {
   "cell_type": "code",
   "execution_count": 37,
   "metadata": {
    "collapsed": true
   },
   "outputs": [],
   "source": [
    "# Split data into train and test\n",
    "\n",
    "X_train, X_test, y_train, y_test = train_test_split(X, y, stratify=y, test_size=0.33, random_state=42)"
   ]
  },
  {
   "cell_type": "code",
   "execution_count": 40,
   "metadata": {
    "collapsed": false
   },
   "outputs": [
    {
     "name": "stdout",
     "output_type": "stream",
     "text": [
      "0.966212121212\n"
     ]
    }
   ],
   "source": [
    "# Build KNN model to predict crime level of incoming coordinates\n",
    "\n",
    "knn = KNeighborsClassifier(n_neighbors=2, weights='distance')\n",
    "knn.fit(X_train, y_train)\n",
    "print knn.score(X_test, y_test)\n",
    "y_pred = knn.predict(X_test)"
   ]
  },
  {
   "cell_type": "code",
   "execution_count": 41,
   "metadata": {
    "collapsed": false
   },
   "outputs": [
    {
     "name": "stdout",
     "output_type": "stream",
     "text": [
      "             precision    recall  f1-score   support\n",
      "\n",
      "       High       0.99      1.00      0.99      2249\n",
      "        Low       0.99      0.88      0.93      1757\n",
      "     Medium       0.94      0.99      0.96      2594\n",
      "\n",
      "avg / total       0.97      0.97      0.97      6600\n",
      "\n"
     ]
    },
    {
     "data": {
      "text/plain": [
       "array([[2249,    0,    0],\n",
       "       [  28, 1551,  178],\n",
       "       [   0,   17, 2577]])"
      ]
     },
     "execution_count": 41,
     "metadata": {},
     "output_type": "execute_result"
    }
   ],
   "source": [
    "# Print classification report and confusion matrix\n",
    "\n",
    "print classification_report(y_test, y_pred)\n",
    "confusion_matrix(y_test, y_pred)"
   ]
  },
  {
   "cell_type": "code",
   "execution_count": 43,
   "metadata": {
    "collapsed": false
   },
   "outputs": [
    {
     "name": "stdout",
     "output_type": "stream",
     "text": [
      "{\"prediction\": \"Low Crime Area\"}\n"
     ]
    }
   ],
   "source": [
    "# Recieve predictions via post request, allowing this model to be used with websites\n",
    "\n",
    "data = { 'latitude' : 10.234098, 'longitude' : -100.123456}\n",
    "response = requests.post('https://secure-bayou-76149.herokuapp.com/site/survey/callback/', data=data)\n",
    "print response.content"
   ]
  },
  {
   "cell_type": "code",
   "execution_count": null,
   "metadata": {
    "collapsed": true
   },
   "outputs": [],
   "source": []
  }
 ],
 "metadata": {
  "anaconda-cloud": {},
  "kernelspec": {
   "display_name": "Python [Root]",
   "language": "python",
   "name": "Python [Root]"
  },
  "language_info": {
   "codemirror_mode": {
    "name": "ipython",
    "version": 2
   },
   "file_extension": ".py",
   "mimetype": "text/x-python",
   "name": "python",
   "nbconvert_exporter": "python",
   "pygments_lexer": "ipython2",
   "version": "2.7.12"
  }
 },
 "nbformat": 4,
 "nbformat_minor": 0
}
